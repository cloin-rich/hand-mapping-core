{
 "cells": [
  {
   "attachments": {},
   "cell_type": "markdown",
   "metadata": {},
   "source": [
    "## **Defining the Area of Interest**\n",
    "\n",
    "In order to create a Height Above Nearest Drainage (HAND) based flood map, you must first define an area of interest (AOI) for your analysis. Below, you will be able to define this AOI using a couple of different methods:\n",
    "1. Defining and creating an AOI using the interactive map from `leafmap`\n",
    "\n",
    "2. Using an existing file to define your AOI \n"
   ]
  },
  {
   "attachments": {},
   "cell_type": "markdown",
   "metadata": {},
   "source": [
    "#### **Importing Packages of Interest**"
   ]
  },
  {
   "cell_type": "code",
   "execution_count": 1,
   "metadata": {},
   "outputs": [],
   "source": [
    "import os\n",
    "import leafmap\n",
    "from tkinter import Tk, filedialog "
   ]
  },
  {
   "attachments": {},
   "cell_type": "markdown",
   "metadata": {},
   "source": [
    "#### **Using the Interactive Map**\n",
    "\n",
    "If you would like to create an AOI from scratch, please use the `Create vector data` tool in interactive map below. Once you have saved your AOI geojson file to your machine, proceed to the next step below"
   ]
  },
  {
   "cell_type": "code",
   "execution_count": 2,
   "metadata": {},
   "outputs": [
    {
     "data": {
      "application/vnd.jupyter.widget-view+json": {
       "model_id": "d3519b0f2dfe45a5b69e72ae19a36b74",
       "version_major": 2,
       "version_minor": 0
      },
      "text/plain": [
       "Map(center=[39.8283, -98.5795], controls=(ZoomControl(options=['position', 'zoom_in_text', 'zoom_in_title', 'z…"
      ]
     },
     "metadata": {},
     "output_type": "display_data"
    }
   ],
   "source": [
    "m = leafmap.Map(google_map=\"TERRAIN\", center=[39.8283, -98.5795], zoom=4)\n",
    "m"
   ]
  },
  {
   "attachments": {},
   "cell_type": "markdown",
   "metadata": {},
   "source": [
    "#### **Uploading your AOI**"
   ]
  },
  {
   "cell_type": "code",
   "execution_count": null,
   "metadata": {},
   "outputs": [],
   "source": [
    "Tk().withdraw()\n",
    "file_name = filedialog.askopenfilename()"
   ]
  }
 ],
 "metadata": {
  "kernelspec": {
   "display_name": "geo",
   "language": "python",
   "name": "python3"
  },
  "language_info": {
   "codemirror_mode": {
    "name": "ipython",
    "version": 3
   },
   "file_extension": ".py",
   "mimetype": "text/x-python",
   "name": "python",
   "nbconvert_exporter": "python",
   "pygments_lexer": "ipython3",
   "version": "3.9.16"
  },
  "orig_nbformat": 4,
  "vscode": {
   "interpreter": {
    "hash": "0c950efb4d4b4b2baedb78e894bb052258dd1739768437689d4111ab6e9b8e19"
   }
  }
 },
 "nbformat": 4,
 "nbformat_minor": 2
}
